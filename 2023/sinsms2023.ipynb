{
 "cells": [
  {
   "cell_type": "markdown",
   "id": "e7278606",
   "metadata": {},
   "source": [
    "<div class=\"alert-success\"; align=\"center\">\n",
    "    <h1> Limits Discretizations + Rectangles </h1>\n",
    "</div>\n",
    "\n",
    "<br>\n",
    "<div align=\"right\">\n",
    "<b> 29th Summer Institute in the Natural Sciences and Mathematics </b> <br>\n",
    "27-29 April 2023\n",
    "</div>\n",
    "\n",
    "<br>\n",
    "<div align=\"right\">\n",
    "<b> Gilbert Peralta </b> <br>\n",
    "Department of Mathematics and Computer Science <br>\n",
    "College of Science <br>\n",
    "University of the Philippines Baguio <br>\n",
    "Email: grperalta@up.edu.ph  <br>\n",
    "Webpage: <a href=\"https://dmcsweb.upb.edu.ph/~grperalta/\"> https://dmcsweb.upb.edu.ph/~grperalta/</a>\n",
    "</div>\n",
    "<br>"
   ]
  },
  {
   "cell_type": "markdown",
   "id": "90d37239",
   "metadata": {},
   "source": [
    "<div class=\"alert-info\">\n",
    "<h3> Riemann Sums with Random and Uniform Partitions </h3>\n",
    "</div>\n",
    "\n"
   ]
  },
  {
   "cell_type": "code",
   "execution_count": null,
   "id": "91651af5",
   "metadata": {},
   "outputs": [],
   "source": [
    "from sinsm2023 import RiemannSum, logplot"
   ]
  },
  {
   "cell_type": "markdown",
   "id": "753f8252",
   "metadata": {},
   "source": [
    "<div class=\"alert-success\">\n",
    "<b> Example 1. </b> Calculate the Riemann sums for the function \n",
    "\\[\n",
    "\tf : [0, 1] \\to \\mathbb{R} \\qquad \\qquad f(x) = x^2\n",
    "\\]\n",
    "using random partitions $\\{x_k\\}_{k=0}^n$ and with the following type of representative points:\n",
    "\n",
    "a. left endpoint: $x_k^\\ast = x_{k-1}$\n",
    "\t\n",
    "b. right endpoint: $x_k^\\ast = x_{k}$\n",
    "\t\n",
    "c. midpoint: $x_k^\\ast = (x_{k-1} + x_{k})/2$\n",
    "\t\n",
    "d. random point: $x_{k-1} \\leq x_k^\\ast \\leq x_k$\n",
    "\n",
    "Use $n = 10^N$ for $N=1,2,3,4,5,6$.\n",
    "\n",
    "<br>\n",
    "<b> Example 2. </b> Repeat <b> Example 1 </b> using uniform partitions.\n",
    "</div>"
   ]
  },
  {
   "cell_type": "code",
   "execution_count": null,
   "id": "9c328168",
   "metadata": {
    "scrolled": false
   },
   "outputs": [],
   "source": [
    "# Sample plot of a Riemman sum using random points and random representatives\n",
    "RS = RiemannSum()\n",
    "RS.function = lambda x : x**2\n",
    "RS.left_endpoint = 0\n",
    "RS.right_endpoint = 1\n",
    "RS.num_points = 11\n",
    "RS.set_random_partition()\n",
    "RS.sample_point = \"random\"\n",
    "RS.plot()"
   ]
  },
  {
   "cell_type": "code",
   "execution_count": null,
   "id": "ed3e8813",
   "metadata": {},
   "outputs": [],
   "source": [
    "# Sample implementation of Example 1a.\n",
    "# Replace \"left\" in line 9 by \"right\", \"mid\", or \"random\" for  subitems 1b, 1c, and 1d. \n",
    "# Replace line 13 by RS.set_uniform_partition() for Example 2.\n",
    "\n",
    "RS = RiemannSum()\n",
    "RS.function = lambda x : x**2\n",
    "RS.left_endpoint = 0\n",
    "RS.right_endpoint = 1\n",
    "RS.sample_point = \"left\"\n",
    "print(\"Number of Points\\tRiemman Sum\")\n",
    "for npts in [10**N+1 for N in range(1,7)]:\n",
    "    RS.num_points = npts\n",
    "    RS.set_random_partition()\n",
    "    riemann_sum = RS.riemann_sum()\n",
    "    print(f\"{npts}\\t\\t\\t{riemann_sum:0.16f}\")"
   ]
  },
  {
   "cell_type": "markdown",
   "id": "1a3bd373",
   "metadata": {},
   "source": [
    "<div class=\"alert-success\">\n",
    "<b> Example 3. </b> Compute the Riemann sums for $f(x) = e^{-x^2}$ for $-3 \\leq x \\leq 3$ using uniform partitions and midpoints as representatives with $n = 10^N$ for $N=1,2,3,4,5,6$.\n",
    "</div>"
   ]
  },
  {
   "cell_type": "code",
   "execution_count": null,
   "id": "218e338f",
   "metadata": {},
   "outputs": [],
   "source": [
    "# Sample plot of a Riemman sum using uniform partition and midpoints as representatives.\n",
    "\n",
    "import numpy as np\n",
    "\n",
    "RS = RiemannSum()\n",
    "RS.function = lambda x : np.exp(-x**2)\n",
    "RS.left_endpoint = -3\n",
    "RS.right_endpoint = 3\n",
    "RS.num_points = 21\n",
    "RS.set_uniform_partition()\n",
    "RS.sample_point = \"mid\"\n",
    "RS.plot(gridsize=1000)"
   ]
  },
  {
   "cell_type": "code",
   "execution_count": null,
   "id": "c5c34602",
   "metadata": {},
   "outputs": [],
   "source": [
    "# Sample implementation of Example 3.\n",
    "\n",
    "RS = RiemannSum()\n",
    "RS.function = lambda x : np.exp(-x**2)\n",
    "RS.left_endpoint = -3\n",
    "RS.right_endpoint = 3\n",
    "RS.sample_point = \"mid\"\n",
    "print(\"Number of Points\\tRiemman Sum\")\n",
    "for npts in [10**N+1 for N in range(1,7)]:\n",
    "    RS.num_points = npts\n",
    "    RS.set_uniform_partition()\n",
    "    riemann_sum = RS.riemann_sum()\n",
    "    print(f\"{npts}\\t\\t\\t{riemann_sum:0.16f}\")"
   ]
  },
  {
   "cell_type": "markdown",
   "id": "a0ef45fe",
   "metadata": {},
   "source": [
    "<div class=\"alert-success\">\n",
    "<b> Example 4. </b> Consider the function $f(x) = x^4 - 3x + 1$ for $-2 \\leq x \\leq 2$. \n",
    "\n",
    "a. Use the box rule with right endpoints to compute the Riemann sums ($S_N$) for $n = 2^N$ for $N=0,1,\\ldots,15$. \n",
    "\t\n",
    "b. Plot the norms of partitions versus the Riemann sums in log scales.\n",
    "\t\n",
    "c.  Denote the numerical absolute errors by $e_N = |S_{N} - S_{15}|$. Compute the following log error ratios:\n",
    "$$\n",
    "\t\\frac{\\log(e_{N-1}/e_N)}{\\log(2)} \\qquad\\text{for } N = 1,2,\\ldots,14\n",
    "$$\n",
    "Plot the norms of partitions versus the log error ratios in log scales. Discuss your observations.\n",
    "    \n",
    "d. Repeat items a, b, and c using left endpoints and midpoints. \n",
    "</div>\n",
    "\n"
   ]
  },
  {
   "cell_type": "code",
   "execution_count": null,
   "id": "7e7d105e",
   "metadata": {},
   "outputs": [],
   "source": [
    "# Sample implementation of Example 4a\n",
    "# Replace \"right\" in line 8 by \"left\" and \"mid\" to perform item d.\n",
    "\n",
    "RS = RiemannSum()\n",
    "RS.function = lambda x : x**4 - 3*x + 1\n",
    "RS.left_endpoint = -2\n",
    "RS.right_endpoint = 2\n",
    "RS.sample_point = \"right\"\n",
    "\n",
    "riemann_sums = []\n",
    "norms = []\n",
    "\n",
    "# item a\n",
    "print(\"N\\tNorm Partition\\t\\tRiemman Sum\")\n",
    "for N in range(16):\n",
    "    RS.num_points = 2**N+1\n",
    "    RS.set_uniform_partition()\n",
    "    riemann_sum = RS.riemann_sum()\n",
    "    norm = RS.norm_partition()\n",
    "    riemann_sums.append(riemann_sum)\n",
    "    norms.append(norm)\n",
    "    print(f\"{N}\\t{norm:0.16f}\\t{riemann_sum:0.16f}\")"
   ]
  },
  {
   "cell_type": "code",
   "execution_count": null,
   "id": "17166ea0",
   "metadata": {},
   "outputs": [],
   "source": [
    "# Example 4b\n",
    "logplot(norms, riemann_sums)"
   ]
  },
  {
   "cell_type": "code",
   "execution_count": null,
   "id": "10f5c05a",
   "metadata": {
    "scrolled": false
   },
   "outputs": [],
   "source": [
    "# Example 4c\n",
    "abs_errors = [abs(riemann_sums[N] - riemann_sums[-1]) for N in range(15)]\n",
    "print(\"N\\tNorm Partition\\t\\tAbsolute Error\\t\\tLog Error Ratio\")\n",
    "for N in range(1, 15):\n",
    "    log_error_ratio = np.log(abs_errors[N-1]/abs_errors[N])/np.log(2)\n",
    "    print(f\"{N}\\t{norms[N]:0.16f}\\t{abs_errors[N]:0.16f}\\t{log_error_ratio:0.16f}\")\n",
    "logplot(norms[:-1], abs_errors)"
   ]
  },
  {
   "cell_type": "markdown",
   "id": "b443e995",
   "metadata": {},
   "source": [
    "<div class=\"alert-success\">\n",
    "<b> Example 5. </b> Repeat Example 4 using the composite trapezoidal rule.\n",
    "</div>"
   ]
  },
  {
   "cell_type": "code",
   "execution_count": null,
   "id": "e3e95fb5",
   "metadata": {},
   "outputs": [],
   "source": [
    "# Sample implementation of Example 5\n",
    "\n",
    "RS.function = lambda x : x**4 - 3*x + 1\n",
    "RS.left_endpoint = -2\n",
    "RS.right_endpoint = 2\n",
    "RS.sample_point = \"right\"\n",
    "\n",
    "trap_sums = []\n",
    "norms = []\n",
    "\n",
    "# item a\n",
    "print(\"N\\tNorm Partition\\t\\tTrapezoidal Sum\")\n",
    "for N in range(16):\n",
    "    RS.num_points = 2**N+1\n",
    "    RS.set_uniform_partition()\n",
    "    trap_sum = RS.trap_sum()\n",
    "    norm = RS.norm_partition()\n",
    "    trap_sums.append(trap_sum)\n",
    "    norms.append(norm)\n",
    "    print(f\"{N}\\t{norm:0.16f}\\t{trap_sum:0.16f}\")\n",
    "\n",
    "# item b\n",
    "logplot(norms, trap_sums)\n",
    "\n",
    "# item c\n",
    "abs_errors = [abs(trap_sums[N] - trap_sums[-1]) for N in range(15)]\n",
    "print(\"N\\tNorm Partition\\t\\tAbsolute Error\\t\\tLog Error Ratio\")\n",
    "for N in range(1, 15):\n",
    "    log_error_ratio = np.log(abs_errors[N-1]/abs_errors[N])/np.log(2)\n",
    "    print(f\"{N}\\t{norms[N]:0.16f}\\t{abs_errors[N]:0.16f}\\t{log_error_ratio:0.16f}\")\n",
    "logplot(norms[:-1], abs_errors)"
   ]
  },
  {
   "cell_type": "markdown",
   "id": "a573cf70",
   "metadata": {},
   "source": [
    "<div class=\"alert-success\">\n",
    "<b> Example 6. </b> Repeat Example 4 using the composite Simpson rule.\n",
    "</div>"
   ]
  },
  {
   "cell_type": "code",
   "execution_count": null,
   "id": "67d56bcf",
   "metadata": {},
   "outputs": [],
   "source": [
    "# Sample implementation of Example 5\n",
    "\n",
    "RS.function = lambda x : x**4 - 3*x + 1\n",
    "RS.left_endpoint = -2\n",
    "RS.right_endpoint = 2\n",
    "RS.sample_point = \"right\"\n",
    "\n",
    "simp_sums = []\n",
    "norms = []\n",
    "\n",
    "# item a\n",
    "print(\"N\\tNorm Partition\\t\\tSimpson Sum\")\n",
    "for N in range(16):\n",
    "    RS.num_points = 2**N+1\n",
    "    RS.set_uniform_partition()\n",
    "    simp_sum = RS.simp_sum()\n",
    "    norm = RS.norm_partition()\n",
    "    simp_sums.append(simp_sum)\n",
    "    norms.append(norm)\n",
    "    print(f\"{N}\\t{norm:0.16f}\\t{simp_sum:0.16f}\")\n",
    "\n",
    "# item b\n",
    "logplot(norms, simp_sums)\n",
    "\n",
    "# item c\n",
    "abs_errors = [abs(simp_sums[N] - simp_sums[-1]) for N in range(15)]\n",
    "print(\"N\\tNorm Partition\\t\\tAbsolute Error\\t\\tLog Error Ratio\")\n",
    "for N in range(1, 15):\n",
    "    log_error_ratio = np.log(abs_errors[N-1]/abs_errors[N])/np.log(2)\n",
    "    print(f\"{N}\\t{norms[N]:0.16f}\\t{abs_errors[N]:0.16f}\\t{log_error_ratio:0.16f}\")\n",
    "logplot(norms[:-1], abs_errors)"
   ]
  },
  {
   "cell_type": "code",
   "execution_count": null,
   "id": "8517513f",
   "metadata": {},
   "outputs": [],
   "source": []
  }
 ],
 "metadata": {
  "kernelspec": {
   "display_name": "Python 3 (ipykernel)",
   "language": "python",
   "name": "python3"
  },
  "language_info": {
   "codemirror_mode": {
    "name": "ipython",
    "version": 3
   },
   "file_extension": ".py",
   "mimetype": "text/x-python",
   "name": "python",
   "nbconvert_exporter": "python",
   "pygments_lexer": "ipython3",
   "version": "3.7.11"
  }
 },
 "nbformat": 4,
 "nbformat_minor": 5
}
